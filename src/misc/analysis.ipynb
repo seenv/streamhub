{
 "cells": [
  {
   "cell_type": "code",
   "execution_count": null,
   "metadata": {},
   "outputs": [],
   "source": [
    "from scapy.all import rdpcap, TCP, UDP, IP, Ether, RawPcapReader\n",
    "import pandas as pd\n",
    "import numpy as np\n",
    "from datetime import datetime\n",
    "import pyshark\n",
    "import hashlib\n",
    "import matplotlib.pyplot as plt\n",
    "import matplotlib as mpl\n",
    "import ast"
   ]
  },
  {
   "cell_type": "code",
   "execution_count": null,
   "metadata": {
    "notebookRunGroups": {
     "groupValue": "1"
    }
   },
   "outputs": [],
   "source": [
    "#pcap_dir = \"perf_P1_5100\"\n",
    "#pcap_dir = \"iperfP3_5100\"\n",
    "pcap_dir = \"iperfP3_5100_5102\"\n",
    "pcap = \"/tmp/capture.pcap\"\n",
    "\n",
    "ports = [5100, 5101, 5102, 5103, 5104,\n",
    "         5074, 5075, 5076, 5077, 5078]\n",
    "ips = ['128.135.24.118', '128.135.24.120',\n",
    "       '128.135.24.117', '128.135.24.119']\n",
    "stream = []\n",
    "\n",
    "#in retransmission:\n",
    "connections = {}\n",
    "seq_tracker = set()\n",
    "covered = []"
   ]
  },
  {
   "cell_type": "markdown",
   "metadata": {},
   "source": [
    "## PCAP"
   ]
  },
  {
   "cell_type": "code",
   "execution_count": null,
   "metadata": {
    "notebookRunGroups": {
     "groupValue": "1"
    }
   },
   "outputs": [],
   "source": [
    "def tcp_flags(flags):\n",
    "    \"\"\"FIN-ACK  AF  0x011 | FIN\tF\t0x01 | SYN-ACK\tAS\t0x012 | SYN\tS\t0x02 | RST\tR\t0x04 | PSH\tP\t0x08 | ACK\tA\t0x10 | URG\tU\t0x20 \"\"\"\n",
    "    if (flags & 0x02) and (flags & 0x10): return 'SYN-ACK'      #start of a connection\n",
    "    if (flags & 0x01) and (flags & 0x10): return 'FIN-ACK'      #end of a connection\n",
    "    if (flags & 0x08) and (flags & 0x10): return 'PSH-ACK'\n",
    "    if flags & 0x01: return 'FIN'\n",
    "    if flags & 0x02: return 'SYN'\n",
    "    if flags & 0x04: return 'RST'\n",
    "    if flags & 0x08: return 'PSH'\n",
    "    if flags & 0x10: return 'ACK'\n",
    "    if flags & 0x20: return 'URG'\n",
    "\n",
    "    return 'UNKNOWN'\n"
   ]
  },
  {
   "cell_type": "code",
   "execution_count": null,
   "metadata": {
    "notebookRunGroups": {
     "groupValue": "1"
    }
   },
   "outputs": [],
   "source": [
    "print(f\"Reading pcap file: {pcap}\")\n",
    "count = 0\n",
    "for pkt_data, meta in RawPcapReader(pcap):\n",
    "    try:\n",
    "        pkt = Ether(pkt_data)\n",
    "        if not pkt.haslayer(IP) or not pkt.haslayer(TCP):\n",
    "            continue\n",
    "\n",
    "        ip = pkt[IP]\n",
    "        tcp = pkt[TCP]\n",
    "\n",
    "        if (tcp.sport not in ports and tcp.dport not in ports):\n",
    "            continue\n",
    "        if (ip.src not in ips and ip.dst not in ips):\n",
    "            continue\n",
    "\n",
    "        entry = {\n",
    "            'Timestamp': datetime.fromtimestamp(float(pkt.time)),\n",
    "            'Src_IP': ip.src,\n",
    "            'Dst_IP': ip.dst,\n",
    "            'Src_Port': tcp.sport,\n",
    "            'Dst_Port': tcp.dport,\n",
    "            'Packet_Seq': tcp.seq,\n",
    "            'Packet_Ack': tcp.ack,\n",
    "            'Packet_Size': len(tcp.payload),\n",
    "            'Packet_Flags': tcp_flags(tcp.flags),\n",
    "        }\n",
    "\n",
    "        stream.append(entry)\n",
    "        count += 1\n",
    "\n",
    "        if count % 1000 == 0:\n",
    "            print(f\"Processed {count} packets...\")\n",
    "\n",
    "    except Exception as e:\n",
    "        print(f\"Failed to parse a packet: {e}\")\n",
    "\n",
    "print(f\"Total processed TCP packets: {count}\")"
   ]
  },
  {
   "cell_type": "code",
   "execution_count": null,
   "metadata": {
    "notebookRunGroups": {
     "groupValue": "1"
    }
   },
   "outputs": [],
   "source": [
    "df = pd.DataFrame(stream)\n",
    "\n",
    "df[\"Timestamp\"] = pd.to_datetime(df[\"Timestamp\"], unit=\"ms\")\n",
    "#print(f\"Total retransmissiones: {df['Retransmission'].sum()}\")  \n",
    "#print(df['Timestamp'].is_monotonic_increasing)\n",
    "#print(df.head(10))\n",
    "#print(df.tail())\n",
    "print(df.info())\n",
    "print(df.describe())\n",
    "df['Packet_Size'].value_counts().sort_index(ascending=True)\n",
    "df['Packet_Size'].value_counts().sort_index(ascending=True)\n",
    "\n",
    "#df.to_csv(\"/home/seena/pcap/perf3.9_capture/{}/stream_packets.csv\".format(pcap_dir), index=False)\n",
    "df.to_csv(\"/home/seena/pcap/perf3.18_capture/{}/stream_packets.csv\".format(pcap_dir), index=False)\n",
    "\n"
   ]
  },
  {
   "cell_type": "code",
   "execution_count": null,
   "metadata": {
    "notebookRunGroups": {
     "groupValue": "1"
    }
   },
   "outputs": [],
   "source": [
    "total_packets = df['Packet_Size'].count()\n",
    "total_size = df['Packet_Size'].sum()\n",
    "mean_size = df['Packet_Size'].mean()\n",
    "median_size = df['Packet_Size'].quantile(0.5)\n",
    "#print(df['Packet_Flags'].unique())\n",
    "duration = (df[df['Packet_Flags'] == 'FIN-ACK']['Timestamp'].max()) - (df[df['Packet_Flags'] == 'SYN-ACK']['Timestamp'].min())  #end - start\n",
    "\n",
    "print(f\"duration of data streaming: {duration}\")\n",
    "print(f\"Total number of packets: {total_packets}\")\n",
    "\n",
    "print(f\"Mean packet size: {mean_size:.2f} bytes\")\n",
    "print(f\"Median packet size: {median_size:.2f} bytes\")\n",
    "print(f\"Total size of packets: {total_size} Bytes ~ {(total_size / (1024 * 1024)):.2f} MB ~ {(total_size / (1024 * 1024 * 1024)):.2f} GB\")"
   ]
  },
  {
   "cell_type": "code",
   "execution_count": null,
   "metadata": {},
   "outputs": [],
   "source": [
    "df.plot(x=\"Timestamp\", y=\"Packet_Size\", title=\"Packet Size\", kind=\"line\")\n",
    "#df.set_index(\"Timestamp\").resample(\"5s\")['Packet_Size'].plot(title=\"Packets per second\", kind=\"line\")"
   ]
  },
  {
   "cell_type": "code",
   "execution_count": null,
   "metadata": {},
   "outputs": [],
   "source": [
    "\n",
    "mpl.rcParams['agg.path.chunksize'] = 10000\n",
    "\n",
    "df_small = df[df['Packet_Size'] <= 100]\n",
    "df_large = df[df['Packet_Size'] >= 60000]\n",
    "\n",
    "fig, (ax1, ax2) = plt.subplots(2, 1, sharex=True, figsize=(14, 6), gridspec_kw={'height_ratios': [1, 2]})\n",
    "\n",
    "ax1.plot(df_large['Timestamp'], df_large['Packet_Size'], color='red', label='Large Packets (60k+)')\n",
    "ax2.plot(df_small['Timestamp'], df_small['Packet_Size'], color='blue', label='Small Packets (<=100)')\n",
    "\n",
    "#ax1.set_ylim(60000, df['Packet_Size'].max() + 1000)\n",
    "ax1.set_ylim(59500, 61500)\n",
    "ax2.set_ylim(0, 100)\n",
    "\n",
    "ax1.spines['bottom'].set_visible(False)\n",
    "ax2.spines['top'].set_visible(False)\n",
    "ax1.tick_params(labeltop=False)\n",
    "\n",
    "d = .015\n",
    "kwargs = dict(transform=ax1.transAxes, color='k', clip_on=False)\n",
    "ax1.plot((-d, +d), (-d, +d), **kwargs)\n",
    "ax1.plot((1 - d, 1 + d), (-d, +d), **kwargs)\n",
    "\n",
    "kwargs.update(transform=ax2.transAxes)\n",
    "ax2.plot((-d, +d), (1 - d, 1 + d), **kwargs)\n",
    "ax2.plot((1 - d, 1 + d), (1 - d, 1 + d), **kwargs)\n",
    "\n",
    "fig.suptitle(\"Small and Large Packet Sizes (Broken Y-Axis)\")\n",
    "ax2.set_xlabel(\"Timestamp\")\n",
    "ax1.set_ylabel(\"Packet Size\")\n",
    "ax2.set_ylabel(\"Packet Size\")\n",
    "ax1.legend()\n",
    "ax2.legend()\n",
    "\n",
    "plt.tight_layout()\n",
    "plt.show()\n"
   ]
  },
  {
   "cell_type": "code",
   "execution_count": null,
   "metadata": {},
   "outputs": [],
   "source": [
    "df.set_index(\"Timestamp\").resample(\"60s\")[\"Packet_Size\"].count().plot(title=\"packet cnt per sec\")            # packet count over time or activity level\n"
   ]
  },
  {
   "cell_type": "code",
   "execution_count": null,
   "metadata": {},
   "outputs": [],
   "source": [
    "df.set_index(\"Timestamp\").resample(\"60s\")[\"Packet_Size\"].sum().plot(title=\"bytes per sec\")                   # throughput approximation"
   ]
  },
  {
   "cell_type": "markdown",
   "metadata": {},
   "source": [
    "## read"
   ]
  },
  {
   "cell_type": "code",
   "execution_count": null,
   "metadata": {},
   "outputs": [],
   "source": [
    "pcap_dir = \"sci5\"\n",
    "csv_path = f\"/home/seena/pcap/{pcap_dir}/stream_packets.csv\"\n",
    "\n",
    "df = pd.read_csv(csv_path)\n",
    "\n",
    "df[\"Timestamp\"] = pd.to_datetime(df[\"Timestamp\"])\n",
    "\n",
    "print(df.info())\n",
    "print(df.describe())\n",
    "df['Packet_Size'].value_counts().sort_index(ascending=True)\n",
    "df['Packet_Size'].value_counts().sort_index(ascending=True)"
   ]
  },
  {
   "cell_type": "code",
   "execution_count": null,
   "metadata": {},
   "outputs": [],
   "source": [
    "total_packets = df['Packet_Size'].count()\n",
    "total_size = df['Packet_Size'].sum()\n",
    "mean_size = df['Packet_Size'].mean()\n",
    "median_size = df['Packet_Size'].median()\n",
    "\n",
    "duration = (df[df['Packet_Flags'] == 'FIN-ACK']['Timestamp'].max()) - \\\n",
    "           (df[df['Packet_Flags'] == 'SYN-ACK']['Timestamp'].min())\n",
    "\n",
    "print(f\"Duration: {duration}\")\n",
    "print(f\"Total Packets: {total_packets}\")\n",
    "print(f\"Mean Size: {mean_size:.2f} bytes\")\n",
    "print(f\"Median Size: {median_size:.2f} bytes\")\n",
    "print(f\"Total Data: {total_size / (1024 * 1024):.2f} MB\")\n"
   ]
  },
  {
   "cell_type": "code",
   "execution_count": null,
   "metadata": {},
   "outputs": [],
   "source": [
    "df[\"CPU List\"] = df[\"Total CPU (%)\"].apply(ast.literal_eval)\n",
    "df[\"CPU Avg\"] = df[\"CPU List\"].apply(lambda x: sum(x)/len(x) if isinstance(x, list) else x)\n",
    "plt.figure(figsize=(14, 6))\n",
    "plt.plot(df[\"Timestamp\"], df[\"Total Memory (%)\"], label=\"Memory Usage (%)\", color=\"tab:blue\")\n",
    "plt.xlabel(\"Time\")\n",
    "plt.ylabel(\"Usage\")\n",
    "plt.title(\"System Resource Usage Over Time\")\n",
    "plt.legend()\n",
    "plt.grid(True)\n",
    "plt.tight_layout()\n",
    "plt.show()\n"
   ]
  },
  {
   "cell_type": "code",
   "execution_count": null,
   "metadata": {},
   "outputs": [],
   "source": [
    "df[\"CPU List\"] = df[\"Total CPU (%)\"].apply(ast.literal_eval)\n",
    "df[\"CPU Avg\"] = df[\"CPU List\"].apply(lambda x: sum(x)/len(x) if isinstance(x, list) else x)\n",
    "\n",
    "plt.figure(figsize=(14, 6))\n",
    "plt.plot(df[\"Timestamp\"], df[\"Total Disk Read (MB)\"], label=\"Disk Read (MB)\", color=\"tab:green\")\n",
    "\n",
    "plt.xlabel(\"Time\")\n",
    "plt.ylabel(\"Usage\")\n",
    "plt.title(\"System Resource Usage Over Time\")\n",
    "plt.legend()\n",
    "plt.grid(True)\n",
    "plt.tight_layout()\n",
    "plt.show()\n"
   ]
  },
  {
   "cell_type": "code",
   "execution_count": null,
   "metadata": {},
   "outputs": [],
   "source": [
    "\n",
    "df[\"CPU List\"] = df[\"Total CPU (%)\"].apply(ast.literal_eval)\n",
    "df[\"CPU Avg\"] = df[\"CPU List\"].apply(lambda x: sum(x)/len(x) if isinstance(x, list) else x)\n",
    "\n",
    "plt.figure(figsize=(14, 6))\n",
    "plt.plot(df[\"Timestamp\"], df[\"Total Disk Write (MB)\"], label=\"Disk Write (MB)\", color=\"tab:orange\")\n",
    "plt.xlabel(\"Time\")\n",
    "plt.ylabel(\"Usage\")\n",
    "plt.title(\"System Resource Usage Over Time\")\n",
    "plt.legend()\n",
    "plt.grid(True)\n",
    "plt.tight_layout()\n",
    "plt.show()\n"
   ]
  },
  {
   "cell_type": "markdown",
   "metadata": {},
   "source": [
    "## Resources"
   ]
  },
  {
   "cell_type": "code",
   "execution_count": null,
   "metadata": {},
   "outputs": [],
   "source": [
    "import pandas as pd\n",
    "import ast\n",
    "import matplotlib.pyplot as plt"
   ]
  },
  {
   "cell_type": "code",
   "execution_count": null,
   "metadata": {},
   "outputs": [],
   "source": [
    "\"\"\"experiments = [\n",
    "    \"perf_P1x1_5100\",\n",
    "    \"perf_P1x3_5101-5103\",\n",
    "    \"perf_P3x1_5104\",\n",
    "    \"sci1\",\n",
    "    \"sci5\",\n",
    "]\"\"\"\n",
    "\n",
    "experiments = [\n",
    "    \"iperfP1_5100\",\n",
    "    \"iperfP3_5100\",\n",
    "    \"iperfP3_5100_5102\",\n",
    "]\n",
    "\n",
    "\n",
    "#csv_path = \"/home/seena/pcap/iperf3.9_capture/{}/rss_stats.csv\"\n",
    "csv_path = \"/home/seena/pcap/iperf3.18_capture/{}/rss_stats.csv\"\n"
   ]
  },
  {
   "cell_type": "code",
   "execution_count": null,
   "metadata": {},
   "outputs": [],
   "source": [
    "fig, axs = plt.subplots(len(experiments), 1, figsize=(60, 18), sharey=True)\n",
    "\n",
    "for i, test_dir in enumerate(experiments):\n",
    "    csv_path = base_path.format(test_dir)\n",
    "    df = pd.read_csv(csv_path)\n",
    "    df[\"Timestamp\"] = pd.to_datetime(df[\"Timestamp\"])\n",
    "    df[\"CPU List\"] = df[\"Total CPU (%)\"].apply(ast.literal_eval)\n",
    "    df[\"CPU Avg\"] = df[\"CPU List\"].apply(lambda x: sum(x)/len(x) if isinstance(x, list) else x)\n",
    "\n",
    "    ax = axs[i]\n",
    "    ax.plot(df[\"Timestamp\"], df[\"CPU Avg\"], label=\"Avg CPU Usage (%)\", color='tab:red')\n",
    "    ax.set_title(f\"{test_dir}\")\n",
    "    ax.set_xlabel(\"Time\")\n",
    "    ax.set_ylabel(\"CPU Usage (%)\")\n",
    "    ax.grid(True)\n",
    "    ax.legend()\n",
    "\n",
    "plt.suptitle(\"Average CPU Usage Over Time Across Experiments\", fontsize=20)\n",
    "plt.tight_layout(rect=[0, 0, 1, 0.95])\n",
    "plt.show()"
   ]
  },
  {
   "cell_type": "code",
   "execution_count": null,
   "metadata": {},
   "outputs": [],
   "source": [
    "fig, axs = plt.subplots(len(experiments), 1, figsize=(60, 18), sharey=True)\n",
    "\n",
    "for i, test_dir in enumerate(experiments):\n",
    "    csv_path = base_path.format(test_dir)\n",
    "    #print(df.info())\n",
    "    #print(df.head())\n",
    "\n",
    "    df = pd.read_csv(csv_path)\n",
    "    df[\"Timestamp\"] = pd.to_datetime(df[\"Timestamp\"])\n",
    "    df[\"CPU List\"] = df[\"Total CPU (%)\"].apply(ast.literal_eval)\n",
    "\n",
    "    cpu_df = df[\"CPU List\"].apply(pd.Series)\n",
    "    cpu_df.columns = [f\"Core {j}\" for j in cpu_df.columns]\n",
    "    cpu_df[\"Timestamp\"] = df[\"Timestamp\"]\n",
    "\n",
    "    all_cores = [col for col in cpu_df.columns if col != \"Timestamp\"]\n",
    "\n",
    "    ax = axs[i]\n",
    "    for core in all_cores:\n",
    "        ax.plot(cpu_df[\"Timestamp\"], cpu_df[core], label=core)\n",
    "\n",
    "    ax.set_title(f\"{test_dir}\")\n",
    "    ax.set_xlabel(\"Time\")\n",
    "    if i == 0:\n",
    "        ax.set_ylabel(\"CPU Usage (%)\")\n",
    "    ax.legend(loc='upper right', fontsize='small')\n",
    "    ax.grid(True)\n",
    "\n",
    "plt.suptitle(\"Per-Core CPU Usage (All Cores) Across Experiments\", fontsize=16)\n",
    "plt.tight_layout(rect=[0, 0, 1, 0.95])\n",
    "plt.show()\n"
   ]
  },
  {
   "cell_type": "code",
   "execution_count": null,
   "metadata": {},
   "outputs": [],
   "source": [
    "fig, axs = plt.subplots(len(experiments), 1, figsize=(60, 18), sharey=True)\n",
    "\n",
    "for i, test_dir in enumerate(experiments):\n",
    "    csv_path = base_path.format(test_dir)\n",
    "\n",
    "    df = pd.read_csv(csv_path)\n",
    "    df[\"Timestamp\"] = pd.to_datetime(df[\"Timestamp\"])\n",
    "    df[\"CPU List\"] = df[\"Total CPU (%)\"].apply(ast.literal_eval)\n",
    "\n",
    "    cpu_df = df[\"CPU List\"].apply(pd.Series)\n",
    "    cpu_df.columns = [f\"Core {j}\" for j in cpu_df.columns]\n",
    "    cpu_df[\"Timestamp\"] = df[\"Timestamp\"]\n",
    "\n",
    "    active_cores = [col for col in cpu_df.columns if col != \"Timestamp\" and cpu_df[col].max() > 95]     #only active cores (> 60% at any point)\n",
    "\n",
    "    ax = axs[i]\n",
    "    for core in active_cores:\n",
    "        ax.plot(cpu_df[\"Timestamp\"], cpu_df[core], label=core)\n",
    "\n",
    "    ax.set_title(f\"{test_dir}\")\n",
    "    ax.set_xlabel(\"Time\")\n",
    "    if i == 0:\n",
    "        ax.set_ylabel(\"CPU Usage (%)\")\n",
    "    ax.legend(loc='upper right', fontsize='small')\n",
    "    ax.grid(True)\n",
    "\n",
    "plt.suptitle(\"Per-Core CPU Usage (>60%) Across test_direriments\", fontsize=16)\n",
    "plt.tight_layout(rect=[0, 0, 1, 0.95])\n",
    "plt.show()\n"
   ]
  },
  {
   "cell_type": "markdown",
   "metadata": {},
   "source": [
    "## Are these useful?"
   ]
  },
  {
   "cell_type": "code",
   "execution_count": null,
   "metadata": {},
   "outputs": [],
   "source": [
    "df[\"CPU List\"] = df[\"Total CPU (%)\"].apply(ast.literal_eval)\n",
    "df[\"CPU Avg\"] = df[\"CPU List\"].apply(lambda x: sum(x)/len(x) if isinstance(x, list) else x)\n",
    "plt.figure(figsize=(14, 6))\n",
    "plt.plot(df[\"Timestamp\"], df[\"Total Memory (%)\"], label=\"Memory Usage (%)\", color=\"tab:blue\")\n",
    "plt.xlabel(\"Time\")\n",
    "plt.ylabel(\"Usage\")\n",
    "plt.title(\"System Resource Usage Over Time\")\n",
    "plt.legend()\n",
    "plt.grid(True)\n",
    "plt.tight_layout()\n",
    "plt.show()\n"
   ]
  },
  {
   "cell_type": "code",
   "execution_count": null,
   "metadata": {},
   "outputs": [],
   "source": [
    "df[\"CPU List\"] = df[\"Total CPU (%)\"].apply(ast.literal_eval)\n",
    "df[\"CPU Avg\"] = df[\"CPU List\"].apply(lambda x: sum(x)/len(x) if isinstance(x, list) else x)\n",
    "\n",
    "plt.figure(figsize=(14, 6))\n",
    "plt.plot(df[\"Timestamp\"], df[\"Total Disk Read (MB)\"], label=\"Disk Read (MB)\", color=\"tab:green\")\n",
    "\n",
    "plt.xlabel(\"Time\")\n",
    "plt.ylabel(\"Usage\")\n",
    "plt.title(\"System Resource Usage Over Time\")\n",
    "plt.legend()\n",
    "plt.grid(True)\n",
    "plt.tight_layout()\n",
    "plt.show()\n"
   ]
  },
  {
   "cell_type": "code",
   "execution_count": null,
   "metadata": {},
   "outputs": [],
   "source": [
    "df[\"CPU List\"] = df[\"Total CPU (%)\"].apply(ast.literal_eval)\n",
    "df[\"CPU Avg\"] = df[\"CPU List\"].apply(lambda x: sum(x)/len(x) if isinstance(x, list) else x)\n",
    "\n",
    "plt.figure(figsize=(14, 6))\n",
    "plt.plot(df[\"Timestamp\"], df[\"Total Disk Write (MB)\"], label=\"Disk Write (MB)\", color=\"tab:orange\")\n",
    "plt.xlabel(\"Time\")\n",
    "plt.ylabel(\"Usage\")\n",
    "plt.title(\"System Resource Usage Over Time\")\n",
    "plt.legend()\n",
    "plt.grid(True)\n",
    "plt.tight_layout()\n",
    "plt.show()"
   ]
  }
 ],
 "metadata": {
  "kernelspec": {
   "display_name": ".gcc",
   "language": "python",
   "name": "python3"
  },
  "language_info": {
   "codemirror_mode": {
    "name": "ipython",
    "version": 3
   },
   "file_extension": ".py",
   "mimetype": "text/x-python",
   "name": "python",
   "nbconvert_exporter": "python",
   "pygments_lexer": "ipython3",
   "version": "3.10.12"
  }
 },
 "nbformat": 4,
 "nbformat_minor": 2
}
